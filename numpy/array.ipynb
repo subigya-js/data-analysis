{
 "cells": [
  {
   "cell_type": "markdown",
   "metadata": {},
   "source": [
    "# Getting Started with Arrays in NumPy"
   ]
  },
  {
   "cell_type": "code",
   "execution_count": 1,
   "metadata": {},
   "outputs": [],
   "source": [
    "import numpy as np"
   ]
  },
  {
   "cell_type": "markdown",
   "metadata": {},
   "source": [
    "## Creating array from list"
   ]
  },
  {
   "cell_type": "code",
   "execution_count": 2,
   "metadata": {},
   "outputs": [
    {
     "name": "stdout",
     "output_type": "stream",
     "text": [
      "1D array:  [1 2 3 4 5]\n",
      "2D array:  [[1 2 3]\n",
      " [4 5 6]]\n"
     ]
    }
   ],
   "source": [
    "arr_1d = np.array([1, 2, 3, 4, 5])\n",
    "print(\"1D array: \", arr_1d)\n",
    "\n",
    "arr_2d = np.array([[1, 2, 3], [4, 5, 6]])\n",
    "print(\"2D array: \", arr_2d)"
   ]
  },
  {
   "cell_type": "markdown",
   "metadata": {},
   "source": [
    "### List vs NumPy Array"
   ]
  },
  {
   "cell_type": "code",
   "execution_count": 4,
   "metadata": {},
   "outputs": [
    {
     "name": "stdout",
     "output_type": "stream",
     "text": [
      "Python list Multiplication:  [1, 2, 3, 1, 2, 3]\n",
      "Numpy array multiplication:  [2 4 6]\n",
      "\n",
      "Python list operation time:  0.004137992858886719\n",
      "Numpy array operation time:  0.0032591819763183594\n"
     ]
    }
   ],
   "source": [
    "py_list = [1,2,3]\n",
    "print(\"Python list Multiplication: \", py_list*2)\n",
    "\n",
    "# Doing same for numpy array\n",
    "np_array = np.array([1,2,3]) # Element wise multiplication\n",
    "print(\"Numpy array multiplication: \", np_array*2)\n",
    "\n",
    "import time\n",
    "start = time.time()\n",
    "py_list = [i*2 for i in range(100000)]\n",
    "print(\"\\nPython list operation time: \", time.time()-start)\n",
    "\n",
    "start = time.time()\n",
    "np_array = np.arange(100000)*2\n",
    "print(\"Numpy array operation time: \", time.time()-start)"
   ]
  },
  {
   "cell_type": "markdown",
   "metadata": {},
   "source": [
    "### Creating array from scratch"
   ]
  },
  {
   "cell_type": "code",
   "execution_count": 16,
   "metadata": {},
   "outputs": [
    {
     "name": "stdout",
     "output_type": "stream",
     "text": [
      "\n",
      "Zeros array: \n",
      " [[0. 0. 0.]\n",
      " [0. 0. 0.]\n",
      " [0. 0. 0.]]\n",
      "\n",
      "Ones array: \n",
      " [[1. 1. 1.]\n",
      " [1. 1. 1.]\n",
      " [1. 1. 1.]]\n",
      "\n",
      "Full array: \n",
      " [[5 5 5]\n",
      " [5 5 5]\n",
      " [5 5 5]]\n",
      "\n",
      "Random array: \n",
      " [[0.06814581 0.22339796 0.0929538 ]\n",
      " [0.23720313 0.29195554 0.17402456]]\n",
      "\n",
      "Random array2: \n",
      " [[2 6 6]\n",
      " [4 3 4]]\n",
      "\n",
      "Sequence array:  [0 2 4 6 8]\n"
     ]
    }
   ],
   "source": [
    "# Creating 3x3 0s Matrix\n",
    "zeros = np.zeros((3,3))\n",
    "print(\"\\nZeros array: \\n\", zeros)\n",
    "\n",
    "# Creating 3x3 1s Matrix\n",
    "ones = np.ones((3,3))\n",
    "print(\"\\nOnes array: \\n\", ones)\n",
    "\n",
    "# Creating martix of any number\n",
    "# 3x3 matrix of 5\n",
    "full = np.full((3,3), 5)\n",
    "print(\"\\nFull array: \\n\", full)\n",
    "\n",
    "# Random number matrix\n",
    "# 2x3 matrix of random numbers\n",
    "random = np.random.random((2, 3)) # Random numbers between 0 and 1\n",
    "random2 = np.random.randint(1, 10, (2,3)) # Random numbers between 1 and 10\n",
    "print(\"\\nRandom array: \\n\", random)\n",
    "print(\"\\nRandom array2: \\n\", random2)\n",
    "\n",
    "# Sequences\n",
    "sequence = np.arange(0, 10, 2) # Start, Stop, Step. By default step is 1 np.array(0, 10)\n",
    "print(\"\\nSequence array: \", sequence)"
   ]
  },
  {
   "cell_type": "markdown",
   "metadata": {},
   "source": [
    "### Vector, Matrix and Tensor"
   ]
  },
  {
   "cell_type": "code",
   "execution_count": 16,
   "metadata": {},
   "outputs": [
    {
     "name": "stdout",
     "output_type": "stream",
     "text": [
      "\n",
      "Vector:  [1 2 3]\n",
      "\n",
      "Matrix: \n",
      " [[1 2 3]\n",
      " [4 5 6]\n",
      " [7 8 9]]\n",
      "\n",
      "Tensor: \n",
      " [[[1 2]\n",
      "  [3 4]]\n",
      "\n",
      " [[5 6]\n",
      "  [7 8]]]\n"
     ]
    }
   ],
   "source": [
    "# Creating a vector\n",
    "vetor = np.array([1,2,3])\n",
    "print(\"\\nVector: \", vetor)\n",
    "\n",
    "# Creating a matrix\n",
    "matrix = np.array([\n",
    "    [1,2,3],\n",
    "    [4,5,6],\n",
    "    [7,8,9]\n",
    "])\n",
    "print(\"\\nMatrix: \\n\", matrix)\n",
    "\n",
    "# Creating a tensor\n",
    "tensor = np.array([[[1,2], [3,4]],\n",
    "                   [[5,6], [7,8]],])\n",
    "\n",
    "print(\"\\nTensor: \\n\", tensor)"
   ]
  },
  {
   "cell_type": "markdown",
   "metadata": {},
   "source": [
    "### Array Properties"
   ]
  },
  {
   "cell_type": "code",
   "execution_count": 14,
   "metadata": {},
   "outputs": [
    {
     "name": "stdout",
     "output_type": "stream",
     "text": [
      "Shape:  (2, 3)\n",
      "Dimension:  2\n",
      "Size:  6\n",
      "Data type:  int64\n"
     ]
    }
   ],
   "source": [
    "arr = np.array([[1,2,3],[4,5,6]])\n",
    "\n",
    "print(\"Shape: \", arr.shape)\n",
    "print(\"Dimension: \", arr.ndim)\n",
    "print(\"Size: \", arr.size) # Total number of elements\n",
    "print(\"Data type: \", arr.dtype) # Data type of elements"
   ]
  },
  {
   "cell_type": "markdown",
   "metadata": {},
   "source": [
    "### Array Reshaping"
   ]
  },
  {
   "cell_type": "code",
   "execution_count": 23,
   "metadata": {},
   "outputs": [
    {
     "name": "stdout",
     "output_type": "stream",
     "text": [
      "Original array:  [ 0  1  2  3  4  5  6  7  8  9 10 11]\n",
      "Reshaped array: \n",
      " [[ 0  1  2  3]\n",
      " [ 4  5  6  7]\n",
      " [ 8  9 10 11]]\n",
      "Flattened array:  [ 0  1  2  3  4  5  6  7  8  9 10 11]\n",
      "Raveled array:  [ 0  1  2  3  4  5  6  7  8  9 10 11]\n",
      "Transpose array: \n",
      " [[ 0  4  8]\n",
      " [ 1  5  9]\n",
      " [ 2  6 10]\n",
      " [ 3  7 11]]\n"
     ]
    }
   ],
   "source": [
    "arr = np.arange(12)\n",
    "print(\"Original array: \", arr)\n",
    "\n",
    "# Reshaping the array\n",
    "reshaped = arr.reshape(3,4) # Reshape to 3x4 matrix\n",
    "print(\"Reshaped array: \\n\", reshaped)\n",
    "\n",
    "# Flattening the array\n",
    "flattened = reshaped.flatten() #\n",
    "print(\"Flattened array: \", flattened)\n",
    "\n",
    "# Ravel\n",
    "raveled = reshaped.ravel() # Same as flatten but it returns a view of the original array instead of copy\n",
    "print(\"Raveled array: \", raveled)\n",
    "\n",
    "# Transpose (Interchange the rows and columns)\n",
    "transpose = reshaped.T\n",
    "print(\"Transpose array: \\n\", transpose)"
   ]
  },
  {
   "cell_type": "code",
   "execution_count": null,
   "metadata": {},
   "outputs": [],
   "source": []
  }
 ],
 "metadata": {
  "kernelspec": {
   "display_name": "base",
   "language": "python",
   "name": "python3"
  },
  "language_info": {
   "codemirror_mode": {
    "name": "ipython",
    "version": 3
   },
   "file_extension": ".py",
   "mimetype": "text/x-python",
   "name": "python",
   "nbconvert_exporter": "python",
   "pygments_lexer": "ipython3",
   "version": "3.11.7"
  }
 },
 "nbformat": 4,
 "nbformat_minor": 2
}
