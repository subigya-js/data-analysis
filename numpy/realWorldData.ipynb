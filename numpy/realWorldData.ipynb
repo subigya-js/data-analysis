{
 "cells": [
  {
   "cell_type": "markdown",
   "metadata": {},
   "source": [
    "## Advance Operations with Business examples"
   ]
  },
  {
   "cell_type": "code",
   "execution_count": 2,
   "metadata": {},
   "outputs": [],
   "source": [
    "import numpy as np\n",
    "import matplotlib.pyplot as plt"
   ]
  },
  {
   "cell_type": "code",
   "execution_count": 4,
   "metadata": {},
   "outputs": [
    {
     "name": "stdout",
     "output_type": "stream",
     "text": [
      " === Zomato Sales Analysis === \n",
      "\n",
      "Sales Data Shape:  (5, 5)\n",
      "\n",
      "Sample data for first three resturants:\n",
      " [[     1 150000 180000 220000 250000]\n",
      " [     2 120000 140000 160000 190000]\n",
      " [     3 200000 230000 260000 300000]]\n",
      "\n",
      "Sample Data except resturant_id:\n",
      " [[150000 180000 220000 250000]\n",
      " [120000 140000 160000 190000]\n",
      " [200000 230000 260000 300000]\n",
      " [180000 210000 240000 270000]\n",
      " [160000 285000 205000 230000]]\n"
     ]
    }
   ],
   "source": [
    "# Data structure:  [resturant_id, 2021, 2022, 2023, 2024]\n",
    "sales_data = np.array([\n",
    "    [1, 150000, 180000, 220000, 250000], # Paradise Biryani\n",
    "    [2, 120000, 140000, 160000, 190000], # Beijing Bites\n",
    "    [3, 200000, 230000, 260000, 300000], # Pizza Hub\n",
    "    [4, 180000, 210000, 240000, 270000], # Burger Point\n",
    "    [5, 160000, 285000, 205000, 230000]  # Chai Point\n",
    "    ])\n",
    "\n",
    "print(\" === Zomato Sales Analysis === \")\n",
    "\n",
    "# Get the shape of the data, it is mandatory before processing the data\n",
    "print(\"\\nSales Data Shape: \", sales_data.shape)\n",
    "\n",
    "# Data of first three resturants\n",
    "print(\"\\nSample data for first three resturants:\\n\", sales_data[:3])\n",
    "\n",
    "# Get all the data except the first column (resturant_id)\n",
    "print(\"\\nSample Data except resturant_id:\\n\", sales_data[:, 1:])"
   ]
  },
  {
   "cell_type": "code",
   "execution_count": 14,
   "metadata": {},
   "outputs": [
    {
     "name": "stdout",
     "output_type": "stream",
     "text": [
      "=== Total Sales per year ===\n",
      "2021:  810000\n",
      "2022:  1045000\n",
      "2023:  1085000\n",
      "2024:  1240000\n"
     ]
    }
   ],
   "source": [
    "# Total sales per year\n",
    "print(\"=== Total Sales per year ===\")\n",
    "total_sales = np.sum(sales_data[:,1:], axis=0) # axis=0 means column wise sum and [:, 1:] means all rows and columns except the first column\n",
    "print(\"2021: \", total_sales[0])\n",
    "print(\"2022: \", total_sales[1])\n",
    "print(\"2023: \", total_sales[2])\n",
    "print(\"2024: \", total_sales[3])"
   ]
  },
  {
   "cell_type": "code",
   "execution_count": 17,
   "metadata": {},
   "outputs": [
    {
     "name": "stdout",
     "output_type": "stream",
     "text": [
      "=== Total Sales per resturant since 2021 ===\n",
      "Paradise Biryani:  800000\n",
      "Beijing Bites:  610000\n",
      "Pizza Hub:  990000\n",
      "Burger Point:  900000\n",
      "Chai Point:  880000\n"
     ]
    }
   ],
   "source": [
    "# Total sales per resturant since 2021\n",
    "print(\"=== Total Sales per resturant since 2021 ===\")\n",
    "total_sales = np.sum(sales_data[:, 1:], axis=1) # axis=1 means row wise sum and [:, 1:] means all rows and columns except the first column\n",
    "print(\"Paradise Biryani: \", total_sales[0])\n",
    "print(\"Beijing Bites: \", total_sales[1])\n",
    "print(\"Pizza Hub: \", total_sales[2])\n",
    "print(\"Burger Point: \", total_sales[3])\n",
    "print(\"Chai Point: \", total_sales[4])"
   ]
  },
  {
   "cell_type": "code",
   "execution_count": null,
   "metadata": {},
   "outputs": [
    {
     "name": "stdout",
     "output_type": "stream",
     "text": [
      "Minimum sales by Paradise Biryani since 2021:  150000\n",
      "Maximum sales by Paradise Biryani since 2021:  250000\n",
      "Minimum sales by Beijing Bites since 2021:  120000\n",
      "Maximum sales by Beijing Bites since 2021:  190000\n",
      "Minimum sales by Pizza Hub since 2021:  200000\n",
      "Maximum sales by Pizza Hub since 2021:  300000\n",
      "Minimum sales by Burger Point since 2021:  180000\n",
      "Maximum sales by Burger Point since 2021:  270000\n",
      "Minimum sales by Chai Point since 2021:  160000\n",
      "Maximum sales by Chai Point since 2021:  285000\n"
     ]
    }
   ],
   "source": [
    "# Minimum and Maximum sales by individual resturants per year\n",
    "minimum_sales = np.min(sales_data[:, 1:], axis=1)\n",
    "maximum_sales = np.max(sales_data[:, 1:], axis=1)\n",
    "print(\"Minimum sales by Paradise Biryani since 2021: \", minimum_sales[0])\n",
    "print(\"Maximum sales by Paradise Biryani since 2021: \", maximum_sales[0])\n",
    "print(\"Minimum sales by Beijing Bites since 2021: \", minimum_sales[1])\n",
    "print(\"Maximum sales by Beijing Bites since 2021: \", maximum_sales[1])\n",
    "print(\"Minimum sales by Pizza Hub since 2021: \", minimum_sales[2])\n",
    "print(\"Maximum sales by Pizza Hub since 2021: \", maximum_sales[2])\n",
    "print(\"Minimum sales by Burger Point since 2021: \", minimum_sales[3])\n",
    "print(\"Maximum sales by Burger Point since 2021: \", maximum_sales[3])\n",
    "print(\"Minimum sales by Chai Point since 2021: \", minimum_sales[4])\n",
    "print(\"Maximum sales by Chai Point since 2021: \", maximum_sales[4])"
   ]
  },
  {
   "cell_type": "code",
   "execution_count": 23,
   "metadata": {},
   "outputs": [
    {
     "name": "stdout",
     "output_type": "stream",
     "text": [
      "Maximum sales in 2021:  200000\n",
      "Minimum sales in 2021:  120000\n",
      "Maximum sales in 2022:  285000\n",
      "Minimum sales in 2022:  140000\n",
      "Maximum sales in 2023:  260000\n",
      "Minimum sales in 2023:  160000\n",
      "Maximum sales in 2024:  300000\n",
      "Minimum sales in 2024:  190000\n"
     ]
    }
   ],
   "source": [
    "# Maximum and Minimum sales per year\n",
    "max_sales = np.max(sales_data[:, 1:], axis=0)\n",
    "min_sales = np.min(sales_data[:, 1:], axis=0)\n",
    "print(\"Maximum sales in 2021: \", max_sales[0])\n",
    "print(\"Minimum sales in 2021: \", min_sales[0])\n",
    "print(\"Maximum sales in 2022: \", max_sales[1])\n",
    "print(\"Minimum sales in 2022: \", min_sales[1])\n",
    "print(\"Maximum sales in 2023: \", max_sales[2])\n",
    "print(\"Minimum sales in 2023: \", min_sales[2])\n",
    "print(\"Maximum sales in 2024: \", max_sales[3])\n",
    "print(\"Minimum sales in 2024: \", min_sales[3])"
   ]
  },
  {
   "cell_type": "code",
   "execution_count": 7,
   "metadata": {},
   "outputs": [
    {
     "name": "stdout",
     "output_type": "stream",
     "text": [
      "Overall Cumulative Sales: \n",
      " [[150000 330000 550000 800000]\n",
      " [120000 260000 420000 610000]\n",
      " [200000 430000 690000 990000]\n",
      " [180000 390000 630000 900000]\n",
      " [160000 445000 650000 880000]]\n",
      "Cumulative Sales for Paradise Biryani:  [150000 330000 550000 800000]\n",
      "Cumulative Sales for Beijing Bites:  [120000 260000 420000 610000]\n",
      "Cumulative Sales for Pizza Hub:  [200000 430000 690000 990000]\n",
      "Cumulative Sales for Burger Point:  [180000 390000 630000 900000]\n",
      "Cumulative Sales for Chai Point:  [160000 445000 650000 880000]\n"
     ]
    }
   ],
   "source": [
    "# Cumulative Sales\n",
    "cumulative_sales = np.cumsum((sales_data[:, 1:]), axis=1) # Cumulative sales refers to the running total of sales over a period of time\n",
    "print(\"Overall Cumulative Sales: \\n\", cumulative_sales)\n",
    "print(\"Cumulative Sales for Paradise Biryani: \", cumulative_sales[0])\n",
    "print(\"Cumulative Sales for Beijing Bites: \", cumulative_sales[1])\n",
    "print(\"Cumulative Sales for Pizza Hub: \", cumulative_sales[2])\n",
    "print(\"Cumulative Sales for Burger Point: \", cumulative_sales[3])\n",
    "print(\"Cumulative Sales for Chai Point: \", cumulative_sales[4])"
   ]
  },
  {
   "cell_type": "code",
   "execution_count": 11,
   "metadata": {},
   "outputs": [
    {
     "data": {
      "image/png": "[encoded data removed]",
      "text/plain": [
       "<Figure size 800x400 with 1 Axes>"
      ]
     },
     "metadata": {},
     "output_type": "display_data"
    }
   ],
   "source": [
    "# Plotting the data\n",
    "plt.figure(figsize=(8, 4))\n",
    "plt.plot(np.mean(cumulative_sales, axis = 0))\n",
    "plt.title(\"Average Cumulative Sales\")\n",
    "plt.xlabel(\"Year\")\n",
    "plt.ylabel(\"Sales\")\n",
    "plt.grid(True)\n",
    "plt.show()"
   ]
  },
  {
   "cell_type": "code",
   "execution_count": 15,
   "metadata": {},
   "outputs": [
    {
     "name": "stdout",
     "output_type": "stream",
     "text": [
      "Adding two vectors:  [ 7  9 11 13 15]\n",
      "Vector Multiplication:  [ 6 14 24 36 50]\n",
      "Dot product of two vectors:  130\n",
      "Angle between two vectors:  0.26554161733900966\n"
     ]
    }
   ],
   "source": [
    "vector1 = np.array([1,2,3,4,5])\n",
    "vector2 = np.array([6,7,8,9,10])\n",
    "\n",
    "# Adding two vectors\n",
    "print(\"Adding two vectors: \", vector1 + vector2)\n",
    "\n",
    "# Vector multiplication\n",
    "print(\"Vector Multiplication: \", vector1 * vector2)\n",
    "\n",
    "# Dot product of two vectors\n",
    "print(\"Dot product of two vectors: \", np.dot(vector1, vector2))\n",
    "\n",
    "# Angle between two vectors\n",
    "print(\"Angle between two vectors: \", np.arccos(np.dot(vector1, vector2)/(np.linalg.norm(vector1)*np.linalg.norm(vector2))))"
   ]
  },
  {
   "cell_type": "code",
   "execution_count": null,
   "metadata": {},
   "outputs": [
    {
     "name": "stdout",
     "output_type": "stream",
     "text": [
      "Vectorized Upper:  ['BIRYANI' 'CHINESE' 'ITALIAN' 'BURGER' 'CAFE']\n"
     ]
    }
   ],
   "source": [
    "# Vectorized operations\n",
    "resturant_types = np.array([\"Biryani\", \"Chinese\", \"Italian\", \"Burger\", \"Cafe\"])\n",
    "vectorized_upper = np.vectorize(str.upper)\n",
    "print(\"Vectorized Upper: \", vectorized_upper(resturant_types))"
   ]
  },
  {
   "cell_type": "code",
   "execution_count": 19,
   "metadata": {},
   "outputs": [
    {
     "name": "stdout",
     "output_type": "stream",
     "text": [
      "Monthly Average Sales:  [[12500.         15000.         18333.33333333 20833.33333333]\n",
      " [10000.         11666.66666667 13333.33333333 15833.33333333]\n",
      " [16666.66666667 19166.66666667 21666.66666667 25000.        ]\n",
      " [15000.         17500.         20000.         22500.        ]\n",
      " [13333.33333333 23750.         17083.33333333 19166.66666667]]\n"
     ]
    }
   ],
   "source": [
    "# Brodacasting\n",
    "# Broadcasting refers to the ability of NumPy to treat arrays of different shapes during arithmetic operations\n",
    "# For example, we can divide a scalar to an array (vector) or a matrix\n",
    "monthly_avg = sales_data[:, 1:] / 12\n",
    "print(\"Monthly Average Sales: \", monthly_avg)"
   ]
  },
  {
   "cell_type": "code",
   "execution_count": null,
   "metadata": {},
   "outputs": [],
   "source": []
  }
 ],
 "metadata": {
  "kernelspec": {
   "display_name": "base",
   "language": "python",
   "name": "python3"
  },
  "language_info": {
   "codemirror_mode": {
    "name": "ipython",
    "version": 3
   },
   "file_extension": ".py",
   "mimetype": "text/x-python",
   "name": "python",
   "nbconvert_exporter": "python",
   "pygments_lexer": "ipython3",
   "version": "3.11.7"
  }
 },
 "nbformat": 4,
 "nbformat_minor": 2
}
