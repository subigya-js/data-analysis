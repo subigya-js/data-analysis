{
 "cells": [
  {
   "cell_type": "markdown",
   "metadata": {},
   "source": [
    "## NumPy Array operations"
   ]
  },
  {
   "cell_type": "code",
   "execution_count": 1,
   "metadata": {},
   "outputs": [],
   "source": [
    "import numpy as np"
   ]
  },
  {
   "cell_type": "code",
   "execution_count": 17,
   "metadata": {},
   "outputs": [
    {
     "name": "stdout",
     "output_type": "stream",
     "text": [
      "Basic slicing:  [3 4 5 6 7]\n",
      "Slicing with step:  [3 5 7]\n",
      "Negative Indexing:  [7 8]\n",
      "Slicing with steps and negative indexting:  [4 6 8]\n",
      "Specific element on (1,2):  6\n",
      "Targeting a row (2): [7 8 9]\n",
      "Targeting a cloumn (0):  [1 4 7]\n"
     ]
    }
   ],
   "source": [
    "arr = np.array([1,2,3,4,5,6,7,8,9])\n",
    "print(\"Basic slicing: \", arr[2:7])\n",
    "\n",
    "# Slicing with step\n",
    "print(\"Slicing with step: \", arr[2:8:2])\n",
    "\n",
    "# Negative Indexing\n",
    "print(\"Negative Indexing: \", arr[-3:-1])\n",
    "\n",
    "# Slicing with steps and negative indexing\n",
    "print(\"Slicing with steps and negative indexting: \", arr[-6:-1:2])\n",
    "\n",
    "# Slicing 2D arrays\n",
    "arr_2d = np.array([[1,2,3],\n",
    "                   [4,5,6],\n",
    "                   [7,8,9]])\n",
    "\n",
    "# Specific element\n",
    "print(\"Specific element on (1,2): \", arr_2d[1,2]) # row, column = 6\n",
    "\n",
    "# Targeting a row\n",
    "print(\"Targeting a row (2):\", arr_2d[2]) # row 2\n",
    "\n",
    "# Targeting a column\n",
    "print(\"Targeting a cloumn (0): \", arr_2d[:,0]) # column 0"
   ]
  },
  {
   "cell_type": "markdown",
   "metadata": {},
   "source": [
    "## Sorting"
   ]
  },
  {
   "cell_type": "code",
   "execution_count": 21,
   "metadata": {},
   "outputs": [
    {
     "name": "stdout",
     "output_type": "stream",
     "text": [
      "Unsorted:  [3 1 5 2 4]\n",
      "Sorted:  [1 2 3 4 5]\n",
      "Unsorted 2D array:  [[3 1 5]\n",
      " [2 4 6]\n",
      " [9 7 8]]\n",
      "Sorted 2D array by column:  [[2 1 5]\n",
      " [3 4 6]\n",
      " [9 7 8]]\n",
      "Sorted 2D array by row:  [[1 3 5]\n",
      " [2 4 6]\n",
      " [7 8 9]]\n"
     ]
    }
   ],
   "source": [
    "unsorted = np.array([3,1,5,2,4])\n",
    "print(\"Unsorted: \", unsorted)\n",
    "print(\"Sorted: \", np.sort(unsorted))\n",
    "\n",
    "# Sorting 2D arrays\n",
    "unsorted_2d = np.array([[3,1,5],\n",
    "                        [2,4,6],\n",
    "                        [9,7,8]])\n",
    "print(\"Unsorted 2D array: \", unsorted_2d)\n",
    "print(\"Sorted 2D array by column: \", np.sort(unsorted_2d, axis=0))\n",
    "print(\"Sorted 2D array by row: \", np.sort(unsorted_2d, axis=1))"
   ]
  },
  {
   "cell_type": "markdown",
   "metadata": {},
   "source": [
    "## Filter"
   ]
  },
  {
   "cell_type": "code",
   "execution_count": 25,
   "metadata": {},
   "outputs": [
    {
     "name": "stdout",
     "output_type": "stream",
     "text": [
      "Even numbers:  [ 2  4  6  8 10]\n",
      "Odd numbers:  [1 3 5 7 9]\n"
     ]
    }
   ],
   "source": [
    "numbers = np.array([1,2,3,4,5,6,7,8,9,10])\n",
    "\n",
    "# Filtering even numbers:\n",
    "print(\"Even numbers: \", numbers[numbers % 2 == 0])\n",
    "\n",
    "# Filtering odd numbers:\n",
    "print(\"Odd numbers: \", numbers[numbers % 2 != 0])"
   ]
  },
  {
   "cell_type": "markdown",
   "metadata": {},
   "source": [
    "## Filter with Mask"
   ]
  },
  {
   "cell_type": "code",
   "execution_count": 26,
   "metadata": {},
   "outputs": [
    {
     "name": "stdout",
     "output_type": "stream",
     "text": [
      "Numbers greater than 5:  [ 6  7  8  9 10]\n"
     ]
    }
   ],
   "source": [
    "mask = numbers > 5\n",
    "print(\"Numbers greater than 5: \", numbers[mask])"
   ]
  },
  {
   "cell_type": "markdown",
   "metadata": {},
   "source": [
    "## Fancy indexing vs np.where()"
   ]
  },
  {
   "cell_type": "code",
   "execution_count": null,
   "metadata": {},
   "outputs": [
    {
     "name": "stdout",
     "output_type": "stream",
     "text": [
      "Indices:  [1 3 5]\n",
      "Where:  [2 3]\n"
     ]
    }
   ],
   "source": [
    "indices = [0, 2, 4]\n",
    "print(\"Indices: \", numbers[indices])\n",
    "\n",
    "where = np.where(numbers[indices] > 1)\n",
    "# print(where) => This will display the indices of the elements that are greater than 1\n",
    "print(\"Where: \", numbers[where])"
   ]
  },
  {
   "cell_type": "code",
   "execution_count": 49,
   "metadata": {},
   "outputs": [
    {
     "name": "stdout",
     "output_type": "stream",
     "text": [
      "Conditional array:  [ 1  2  3  4  5 12 14 16 18 20]\n"
     ]
    }
   ],
   "source": [
    "conditional_array = np.where(numbers > 5, numbers * 2, numbers) # If the number is greater than 5, multiply by 2, else return the number. This is like a ternary operator.\n",
    "print(\"Conditional array: \", conditional_array)"
   ]
  },
  {
   "cell_type": "markdown",
   "metadata": {},
   "source": [
    "## Adding and removing data"
   ]
  },
  {
   "cell_type": "code",
   "execution_count": 51,
   "metadata": {},
   "outputs": [
    {
     "name": "stdout",
     "output_type": "stream",
     "text": [
      "Merged Array:  [1 2 3 4 5 6]\n"
     ]
    }
   ],
   "source": [
    "# Merging two arrays\n",
    "arr = np.array([1,2,3])\n",
    "arr2 = np.array([4,5,6])\n",
    "\n",
    "mergedArray = np.concatenate((arr, arr2))\n",
    "print(\"Merged Array: \", mergedArray)"
   ]
  },
  {
   "cell_type": "markdown",
   "metadata": {},
   "source": [
    "## Array Compatibility"
   ]
  },
  {
   "cell_type": "code",
   "execution_count": 52,
   "metadata": {},
   "outputs": [
    {
     "name": "stdout",
     "output_type": "stream",
     "text": [
      "Compatibility shapes:  True\n"
     ]
    }
   ],
   "source": [
    "a = np.array([1,2,3])\n",
    "b = np.array([4,5,6])\n",
    "c = np.array([7,8,9])\n",
    "\n",
    "print(\"Compatibility shapes: \", a.shape == b.shape)"
   ]
  },
  {
   "cell_type": "markdown",
   "metadata": {},
   "source": [
    "### Reshaping the array"
   ]
  },
  {
   "cell_type": "code",
   "execution_count": 58,
   "metadata": {},
   "outputs": [
    {
     "name": "stdout",
     "output_type": "stream",
     "text": [
      "Original Array:  [[1 2]\n",
      " [3 4]]\n",
      "With new row:  [[1 2]\n",
      " [3 4]\n",
      " [5 6]]\n",
      "Original array:  [[1 2]\n",
      " [3 4]]\n",
      "With new column:  [[1 2 7]\n",
      " [3 4 8]]\n",
      "Original array:  [[1 2]\n",
      " [3 4]]\n",
      "With new column 2:  [[1 2 7]\n",
      " [3 4 8]]\n"
     ]
    }
   ],
   "source": [
    "original = np.array([\n",
    "    [1,2],\n",
    "    [3,4]\n",
    "])\n",
    "\n",
    "new_row = np.array([5,6])\n",
    "\n",
    "# Adding new row to the previous original array\n",
    "with_new_row = np.vstack((original, new_row)) # vstack is used to add a new row (vertical-stack)\n",
    "print(\"Original Array: \", original)\n",
    "print(\"With new row: \", with_new_row)\n",
    "\n",
    "new_column = np.array([7,8])\n",
    "with_new_column = np.hstack((original, new_column.reshape(2,1))) # hstack is used to add a new column (horizontal-stack). Here we also need to reshape the new column to match the original array's shape.\n",
    "print(\"Original array: \", original)\n",
    "print(\"With new column: \", with_new_column)\n",
    "\n",
    "# We can also add new column with the following method:\n",
    "new_column2 = np.array([[7], [8]])\n",
    "with_new_column2 = np.hstack((original, new_column2))\n",
    "print(\"Original array: \", original)\n",
    "print(\"With new column 2: \", with_new_column2)"
   ]
  },
  {
   "cell_type": "markdown",
   "metadata": {},
   "source": [
    "### Deleting row or column"
   ]
  },
  {
   "cell_type": "code",
   "execution_count": 64,
   "metadata": {},
   "outputs": [
    {
     "name": "stdout",
     "output_type": "stream",
     "text": [
      "Array after deletion:  [1 3 4 5]\n"
     ]
    }
   ],
   "source": [
    "arr = np.array([1,2,3,4,5])\n",
    "deleted = np.delete(arr, 1) # This will delete the element at index 1\n",
    "print(\"Array after deletion: \", deleted)"
   ]
  },
  {
   "cell_type": "code",
   "execution_count": null,
   "metadata": {},
   "outputs": [],
   "source": []
  }
 ],
 "metadata": {
  "kernelspec": {
   "display_name": "base",
   "language": "python",
   "name": "python3"
  },
  "language_info": {
   "codemirror_mode": {
    "name": "ipython",
    "version": 3
   },
   "file_extension": ".py",
   "mimetype": "text/x-python",
   "name": "python",
   "nbconvert_exporter": "python",
   "pygments_lexer": "ipython3",
   "version": "3.11.7"
  }
 },
 "nbformat": 4,
 "nbformat_minor": 2
}
