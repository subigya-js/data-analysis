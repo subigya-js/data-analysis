{
 "cells": [
  {
   "cell_type": "markdown",
   "metadata": {},
   "source": [
    "## Working on Series and Dataframe"
   ]
  },
  {
   "cell_type": "code",
   "execution_count": 10,
   "metadata": {},
   "outputs": [],
   "source": [
    "import numpy as np\n",
    "import pandas as pd"
   ]
  },
  {
   "cell_type": "code",
   "execution_count": 20,
   "metadata": {},
   "outputs": [],
   "source": [
    "ser = pd.Series(np.random.rand(34))\n",
    "# This will create a series with 34 random numbers."
   ]
  },
  {
   "cell_type": "code",
   "execution_count": 21,
   "metadata": {},
   "outputs": [
    {
     "data": {
      "text/plain": [
       "0     0.029866\n",
       "1     0.414264\n",
       "2     0.959634\n",
       "3     0.129761\n",
       "4     0.495018\n",
       "5     0.377554\n",
       "6     0.676020\n",
       "7     0.737660\n",
       "8     0.757727\n",
       "9     0.218268\n",
       "10    0.144380\n",
       "11    0.660496\n",
       "12    0.412496\n",
       "13    0.461382\n",
       "14    0.241363\n",
       "15    0.761215\n",
       "16    0.124896\n",
       "17    0.588895\n",
       "18    0.973888\n",
       "19    0.575058\n",
       "20    0.668840\n",
       "21    0.102488\n",
       "22    0.786110\n",
       "23    0.091765\n",
       "24    0.863563\n",
       "25    0.611955\n",
       "26    0.096937\n",
       "27    0.224040\n",
       "28    0.961797\n",
       "29    0.995670\n",
       "30    0.260983\n",
       "31    0.027580\n",
       "32    0.989977\n",
       "33    0.011224\n",
       "dtype: float64"
      ]
     },
     "execution_count": 21,
     "metadata": {},
     "output_type": "execute_result"
    }
   ],
   "source": [
    "ser"
   ]
  },
  {
   "cell_type": "code",
   "execution_count": 12,
   "metadata": {},
   "outputs": [
    {
     "data": {
      "text/plain": [
       "pandas.core.series.Series"
      ]
     },
     "execution_count": 12,
     "metadata": {},
     "output_type": "execute_result"
    }
   ],
   "source": [
    "type(ser)"
   ]
  },
  {
   "cell_type": "code",
   "execution_count": null,
   "metadata": {},
   "outputs": [],
   "source": [
    "newdf = pd.DataFrame(np.random.rand(334,5), index = np.arange(334))\n",
    "# This will create a dataframe with 334 rows and 5 columns and index will be from 0 to 333."
   ]
  },
  {
   "cell_type": "code",
   "execution_count": null,
   "metadata": {},
   "outputs": [
    {
     "data": {
      "text/html": [
       "<div>\n",
       "<style scoped>\n",
       "    .dataframe tbody tr th:only-of-type {\n",
       "        vertical-align: middle;\n",
       "    }\n",
       "\n",
       "    .dataframe tbody tr th {\n",
       "        vertical-align: top;\n",
       "    }\n",
       "\n",
       "    .dataframe thead th {\n",
       "        text-align: right;\n",
       "    }\n",
       "</style>\n",
       "<table border=\"1\" class=\"dataframe\">\n",
       "  <thead>\n",
       "    <tr style=\"text-align: right;\">\n",
       "      <th></th>\n",
       "      <th>0</th>\n",
       "      <th>1</th>\n",
       "      <th>2</th>\n",
       "      <th>3</th>\n",
       "      <th>4</th>\n",
       "    </tr>\n",
       "  </thead>\n",
       "  <tbody>\n",
       "    <tr>\n",
       "      <th>0</th>\n",
       "      <td>0.137323</td>\n",
       "      <td>0.475516</td>\n",
       "      <td>0.371253</td>\n",
       "      <td>0.283712</td>\n",
       "      <td>0.168428</td>\n",
       "    </tr>\n",
       "    <tr>\n",
       "      <th>1</th>\n",
       "      <td>0.268339</td>\n",
       "      <td>0.422132</td>\n",
       "      <td>0.545806</td>\n",
       "      <td>0.176248</td>\n",
       "      <td>0.032686</td>\n",
       "    </tr>\n",
       "    <tr>\n",
       "      <th>2</th>\n",
       "      <td>0.526331</td>\n",
       "      <td>0.249862</td>\n",
       "      <td>0.226285</td>\n",
       "      <td>0.131115</td>\n",
       "      <td>0.511602</td>\n",
       "    </tr>\n",
       "    <tr>\n",
       "      <th>3</th>\n",
       "      <td>0.448762</td>\n",
       "      <td>0.641428</td>\n",
       "      <td>0.722056</td>\n",
       "      <td>0.746669</td>\n",
       "      <td>0.284548</td>\n",
       "    </tr>\n",
       "    <tr>\n",
       "      <th>4</th>\n",
       "      <td>0.261855</td>\n",
       "      <td>0.023933</td>\n",
       "      <td>0.024279</td>\n",
       "      <td>0.642246</td>\n",
       "      <td>0.828274</td>\n",
       "    </tr>\n",
       "  </tbody>\n",
       "</table>\n",
       "</div>"
      ],
      "text/plain": [
       "          0         1         2         3         4\n",
       "0  0.137323  0.475516  0.371253  0.283712  0.168428\n",
       "1  0.268339  0.422132  0.545806  0.176248  0.032686\n",
       "2  0.526331  0.249862  0.226285  0.131115  0.511602\n",
       "3  0.448762  0.641428  0.722056  0.746669  0.284548\n",
       "4  0.261855  0.023933  0.024279  0.642246  0.828274"
      ]
     },
     "execution_count": 17,
     "metadata": {},
     "output_type": "execute_result"
    }
   ],
   "source": [
    "newdf.head() # This will print the first 5 rows of the dataframe."
   ]
  },
  {
   "cell_type": "code",
   "execution_count": 18,
   "metadata": {},
   "outputs": [
    {
     "data": {
      "text/plain": [
       "pandas.core.frame.DataFrame"
      ]
     },
     "execution_count": 18,
     "metadata": {},
     "output_type": "execute_result"
    }
   ],
   "source": [
    "type(newdf)"
   ]
  },
  {
   "cell_type": "code",
   "execution_count": 49,
   "metadata": {},
   "outputs": [
    {
     "data": {
      "text/plain": [
       "0     object\n",
       "1    float64\n",
       "2    float64\n",
       "3    float64\n",
       "4    float64\n",
       "dtype: object"
      ]
     },
     "execution_count": 49,
     "metadata": {},
     "output_type": "execute_result"
    }
   ],
   "source": [
    "newdf.dtypes"
   ]
  },
  {
   "cell_type": "code",
   "execution_count": 30,
   "metadata": {},
   "outputs": [],
   "source": [
    "newdf2 = pd.DataFrame(np.random.rand(334, 5), index=np.arange(1, 335))\n",
    "# This will create a dataframe with 334 rows and 5 columns and index will be from 1 to 334."
   ]
  },
  {
   "cell_type": "code",
   "execution_count": 31,
   "metadata": {},
   "outputs": [
    {
     "data": {
      "text/html": [
       "<div>\n",
       "<style scoped>\n",
       "    .dataframe tbody tr th:only-of-type {\n",
       "        vertical-align: middle;\n",
       "    }\n",
       "\n",
       "    .dataframe tbody tr th {\n",
       "        vertical-align: top;\n",
       "    }\n",
       "\n",
       "    .dataframe thead th {\n",
       "        text-align: right;\n",
       "    }\n",
       "</style>\n",
       "<table border=\"1\" class=\"dataframe\">\n",
       "  <thead>\n",
       "    <tr style=\"text-align: right;\">\n",
       "      <th></th>\n",
       "      <th>0</th>\n",
       "      <th>1</th>\n",
       "      <th>2</th>\n",
       "      <th>3</th>\n",
       "      <th>4</th>\n",
       "    </tr>\n",
       "  </thead>\n",
       "  <tbody>\n",
       "    <tr>\n",
       "      <th>1</th>\n",
       "      <td>0.419985</td>\n",
       "      <td>0.002078</td>\n",
       "      <td>0.526023</td>\n",
       "      <td>0.067293</td>\n",
       "      <td>0.282587</td>\n",
       "    </tr>\n",
       "    <tr>\n",
       "      <th>2</th>\n",
       "      <td>0.301661</td>\n",
       "      <td>0.302760</td>\n",
       "      <td>0.725586</td>\n",
       "      <td>0.902928</td>\n",
       "      <td>0.298952</td>\n",
       "    </tr>\n",
       "    <tr>\n",
       "      <th>3</th>\n",
       "      <td>0.331726</td>\n",
       "      <td>0.140995</td>\n",
       "      <td>0.146907</td>\n",
       "      <td>0.530314</td>\n",
       "      <td>0.108364</td>\n",
       "    </tr>\n",
       "    <tr>\n",
       "      <th>4</th>\n",
       "      <td>0.457623</td>\n",
       "      <td>0.468116</td>\n",
       "      <td>0.134253</td>\n",
       "      <td>0.504068</td>\n",
       "      <td>0.341385</td>\n",
       "    </tr>\n",
       "    <tr>\n",
       "      <th>5</th>\n",
       "      <td>0.913611</td>\n",
       "      <td>0.682397</td>\n",
       "      <td>0.046800</td>\n",
       "      <td>0.966280</td>\n",
       "      <td>0.385617</td>\n",
       "    </tr>\n",
       "    <tr>\n",
       "      <th>...</th>\n",
       "      <td>...</td>\n",
       "      <td>...</td>\n",
       "      <td>...</td>\n",
       "      <td>...</td>\n",
       "      <td>...</td>\n",
       "    </tr>\n",
       "    <tr>\n",
       "      <th>330</th>\n",
       "      <td>0.758697</td>\n",
       "      <td>0.120615</td>\n",
       "      <td>0.406587</td>\n",
       "      <td>0.156062</td>\n",
       "      <td>0.310773</td>\n",
       "    </tr>\n",
       "    <tr>\n",
       "      <th>331</th>\n",
       "      <td>0.416678</td>\n",
       "      <td>0.608368</td>\n",
       "      <td>0.383899</td>\n",
       "      <td>0.656473</td>\n",
       "      <td>0.300871</td>\n",
       "    </tr>\n",
       "    <tr>\n",
       "      <th>332</th>\n",
       "      <td>0.709161</td>\n",
       "      <td>0.223908</td>\n",
       "      <td>0.966743</td>\n",
       "      <td>0.116312</td>\n",
       "      <td>0.264950</td>\n",
       "    </tr>\n",
       "    <tr>\n",
       "      <th>333</th>\n",
       "      <td>0.244873</td>\n",
       "      <td>0.687361</td>\n",
       "      <td>0.632464</td>\n",
       "      <td>0.017844</td>\n",
       "      <td>0.475147</td>\n",
       "    </tr>\n",
       "    <tr>\n",
       "      <th>334</th>\n",
       "      <td>0.570520</td>\n",
       "      <td>0.948800</td>\n",
       "      <td>0.604517</td>\n",
       "      <td>0.670725</td>\n",
       "      <td>0.016033</td>\n",
       "    </tr>\n",
       "  </tbody>\n",
       "</table>\n",
       "<p>334 rows × 5 columns</p>\n",
       "</div>"
      ],
      "text/plain": [
       "            0         1         2         3         4\n",
       "1    0.419985  0.002078  0.526023  0.067293  0.282587\n",
       "2    0.301661  0.302760  0.725586  0.902928  0.298952\n",
       "3    0.331726  0.140995  0.146907  0.530314  0.108364\n",
       "4    0.457623  0.468116  0.134253  0.504068  0.341385\n",
       "5    0.913611  0.682397  0.046800  0.966280  0.385617\n",
       "..        ...       ...       ...       ...       ...\n",
       "330  0.758697  0.120615  0.406587  0.156062  0.310773\n",
       "331  0.416678  0.608368  0.383899  0.656473  0.300871\n",
       "332  0.709161  0.223908  0.966743  0.116312  0.264950\n",
       "333  0.244873  0.687361  0.632464  0.017844  0.475147\n",
       "334  0.570520  0.948800  0.604517  0.670725  0.016033\n",
       "\n",
       "[334 rows x 5 columns]"
      ]
     },
     "execution_count": 31,
     "metadata": {},
     "output_type": "execute_result"
    }
   ],
   "source": [
    "newdf2"
   ]
  },
  {
   "cell_type": "code",
   "execution_count": null,
   "metadata": {},
   "outputs": [],
   "source": [
    "newdf2.to_csv('newdf2.csv', index=False)\n",
    "# This will save the dataframe to a csv file."
   ]
  },
  {
   "cell_type": "code",
   "execution_count": null,
   "metadata": {},
   "outputs": [
    {
     "data": {
      "text/html": [
       "<div>\n",
       "<style scoped>\n",
       "    .dataframe tbody tr th:only-of-type {\n",
       "        vertical-align: middle;\n",
       "    }\n",
       "\n",
       "    .dataframe tbody tr th {\n",
       "        vertical-align: top;\n",
       "    }\n",
       "\n",
       "    .dataframe thead th {\n",
       "        text-align: right;\n",
       "    }\n",
       "</style>\n",
       "<table border=\"1\" class=\"dataframe\">\n",
       "  <thead>\n",
       "    <tr style=\"text-align: right;\">\n",
       "      <th></th>\n",
       "      <th>0</th>\n",
       "      <th>1</th>\n",
       "      <th>2</th>\n",
       "      <th>3</th>\n",
       "      <th>4</th>\n",
       "    </tr>\n",
       "  </thead>\n",
       "  <tbody>\n",
       "    <tr>\n",
       "      <th>count</th>\n",
       "      <td>334.000000</td>\n",
       "      <td>334.000000</td>\n",
       "      <td>334.000000</td>\n",
       "      <td>334.000000</td>\n",
       "      <td>334.000000</td>\n",
       "    </tr>\n",
       "    <tr>\n",
       "      <th>mean</th>\n",
       "      <td>0.512441</td>\n",
       "      <td>0.491266</td>\n",
       "      <td>0.482203</td>\n",
       "      <td>0.502477</td>\n",
       "      <td>0.499502</td>\n",
       "    </tr>\n",
       "    <tr>\n",
       "      <th>std</th>\n",
       "      <td>0.284348</td>\n",
       "      <td>0.277782</td>\n",
       "      <td>0.293353</td>\n",
       "      <td>0.285079</td>\n",
       "      <td>0.294688</td>\n",
       "    </tr>\n",
       "    <tr>\n",
       "      <th>min</th>\n",
       "      <td>0.002199</td>\n",
       "      <td>0.001718</td>\n",
       "      <td>0.000088</td>\n",
       "      <td>0.000516</td>\n",
       "      <td>0.002209</td>\n",
       "    </tr>\n",
       "    <tr>\n",
       "      <th>25%</th>\n",
       "      <td>0.271946</td>\n",
       "      <td>0.267969</td>\n",
       "      <td>0.216983</td>\n",
       "      <td>0.267458</td>\n",
       "      <td>0.232043</td>\n",
       "    </tr>\n",
       "    <tr>\n",
       "      <th>50%</th>\n",
       "      <td>0.524865</td>\n",
       "      <td>0.474481</td>\n",
       "      <td>0.492761</td>\n",
       "      <td>0.499928</td>\n",
       "      <td>0.513016</td>\n",
       "    </tr>\n",
       "    <tr>\n",
       "      <th>75%</th>\n",
       "      <td>0.760821</td>\n",
       "      <td>0.702188</td>\n",
       "      <td>0.718442</td>\n",
       "      <td>0.757325</td>\n",
       "      <td>0.756115</td>\n",
       "    </tr>\n",
       "    <tr>\n",
       "      <th>max</th>\n",
       "      <td>0.998396</td>\n",
       "      <td>0.996121</td>\n",
       "      <td>0.996837</td>\n",
       "      <td>0.999195</td>\n",
       "      <td>0.999457</td>\n",
       "    </tr>\n",
       "  </tbody>\n",
       "</table>\n",
       "</div>"
      ],
      "text/plain": [
       "                0           1           2           3           4\n",
       "count  334.000000  334.000000  334.000000  334.000000  334.000000\n",
       "mean     0.512441    0.491266    0.482203    0.502477    0.499502\n",
       "std      0.284348    0.277782    0.293353    0.285079    0.294688\n",
       "min      0.002199    0.001718    0.000088    0.000516    0.002209\n",
       "25%      0.271946    0.267969    0.216983    0.267458    0.232043\n",
       "50%      0.524865    0.474481    0.492761    0.499928    0.513016\n",
       "75%      0.760821    0.702188    0.718442    0.757325    0.756115\n",
       "max      0.998396    0.996121    0.996837    0.999195    0.999457"
      ]
     },
     "execution_count": 36,
     "metadata": {},
     "output_type": "execute_result"
    }
   ],
   "source": [
    "newdf.describe() # This will give the statistical data of the dataframe."
   ]
  },
  {
   "cell_type": "code",
   "execution_count": null,
   "metadata": {},
   "outputs": [
    {
     "data": {
      "text/plain": [
       "0    float64\n",
       "1    float64\n",
       "2    float64\n",
       "3    float64\n",
       "4    float64\n",
       "dtype: object"
      ]
     },
     "execution_count": 37,
     "metadata": {},
     "output_type": "execute_result"
    }
   ],
   "source": [
    "newdf.dtypes # This will give the data types of the columns of the dataframe."
   ]
  },
  {
   "cell_type": "code",
   "execution_count": null,
   "metadata": {},
   "outputs": [],
   "source": [
    "newdf2[0][0] = \"Gaurav\"\n",
    "# This will change the value of the first row and first column to \"Gaurav\"."
   ]
  },
  {
   "cell_type": "code",
   "execution_count": 40,
   "metadata": {},
   "outputs": [
    {
     "data": {
      "text/html": [
       "<div>\n",
       "<style scoped>\n",
       "    .dataframe tbody tr th:only-of-type {\n",
       "        vertical-align: middle;\n",
       "    }\n",
       "\n",
       "    .dataframe tbody tr th {\n",
       "        vertical-align: top;\n",
       "    }\n",
       "\n",
       "    .dataframe thead th {\n",
       "        text-align: right;\n",
       "    }\n",
       "</style>\n",
       "<table border=\"1\" class=\"dataframe\">\n",
       "  <thead>\n",
       "    <tr style=\"text-align: right;\">\n",
       "      <th></th>\n",
       "      <th>0</th>\n",
       "      <th>1</th>\n",
       "      <th>2</th>\n",
       "      <th>3</th>\n",
       "      <th>4</th>\n",
       "    </tr>\n",
       "  </thead>\n",
       "  <tbody>\n",
       "    <tr>\n",
       "      <th>0</th>\n",
       "      <td>Gaurav</td>\n",
       "      <td>0.475516</td>\n",
       "      <td>0.371253</td>\n",
       "      <td>0.283712</td>\n",
       "      <td>0.168428</td>\n",
       "    </tr>\n",
       "    <tr>\n",
       "      <th>1</th>\n",
       "      <td>0.268339</td>\n",
       "      <td>0.422132</td>\n",
       "      <td>0.545806</td>\n",
       "      <td>0.176248</td>\n",
       "      <td>0.032686</td>\n",
       "    </tr>\n",
       "    <tr>\n",
       "      <th>2</th>\n",
       "      <td>0.526331</td>\n",
       "      <td>0.249862</td>\n",
       "      <td>0.226285</td>\n",
       "      <td>0.131115</td>\n",
       "      <td>0.511602</td>\n",
       "    </tr>\n",
       "    <tr>\n",
       "      <th>3</th>\n",
       "      <td>0.448762</td>\n",
       "      <td>0.641428</td>\n",
       "      <td>0.722056</td>\n",
       "      <td>0.746669</td>\n",
       "      <td>0.284548</td>\n",
       "    </tr>\n",
       "    <tr>\n",
       "      <th>4</th>\n",
       "      <td>0.261855</td>\n",
       "      <td>0.023933</td>\n",
       "      <td>0.024279</td>\n",
       "      <td>0.642246</td>\n",
       "      <td>0.828274</td>\n",
       "    </tr>\n",
       "    <tr>\n",
       "      <th>...</th>\n",
       "      <td>...</td>\n",
       "      <td>...</td>\n",
       "      <td>...</td>\n",
       "      <td>...</td>\n",
       "      <td>...</td>\n",
       "    </tr>\n",
       "    <tr>\n",
       "      <th>329</th>\n",
       "      <td>0.897198</td>\n",
       "      <td>0.966883</td>\n",
       "      <td>0.088054</td>\n",
       "      <td>0.986826</td>\n",
       "      <td>0.696111</td>\n",
       "    </tr>\n",
       "    <tr>\n",
       "      <th>330</th>\n",
       "      <td>0.078474</td>\n",
       "      <td>0.319699</td>\n",
       "      <td>0.713978</td>\n",
       "      <td>0.324181</td>\n",
       "      <td>0.234071</td>\n",
       "    </tr>\n",
       "    <tr>\n",
       "      <th>331</th>\n",
       "      <td>0.134511</td>\n",
       "      <td>0.512529</td>\n",
       "      <td>0.006768</td>\n",
       "      <td>0.090818</td>\n",
       "      <td>0.646690</td>\n",
       "    </tr>\n",
       "    <tr>\n",
       "      <th>332</th>\n",
       "      <td>0.293212</td>\n",
       "      <td>0.854205</td>\n",
       "      <td>0.637883</td>\n",
       "      <td>0.931690</td>\n",
       "      <td>0.389261</td>\n",
       "    </tr>\n",
       "    <tr>\n",
       "      <th>333</th>\n",
       "      <td>0.429715</td>\n",
       "      <td>0.932833</td>\n",
       "      <td>0.582405</td>\n",
       "      <td>0.373915</td>\n",
       "      <td>0.443563</td>\n",
       "    </tr>\n",
       "  </tbody>\n",
       "</table>\n",
       "<p>334 rows × 5 columns</p>\n",
       "</div>"
      ],
      "text/plain": [
       "            0         1         2         3         4\n",
       "0      Gaurav  0.475516  0.371253  0.283712  0.168428\n",
       "1    0.268339  0.422132  0.545806  0.176248  0.032686\n",
       "2    0.526331  0.249862  0.226285  0.131115  0.511602\n",
       "3    0.448762  0.641428  0.722056  0.746669  0.284548\n",
       "4    0.261855  0.023933  0.024279  0.642246  0.828274\n",
       "..        ...       ...       ...       ...       ...\n",
       "329  0.897198  0.966883  0.088054  0.986826  0.696111\n",
       "330  0.078474  0.319699  0.713978  0.324181  0.234071\n",
       "331  0.134511  0.512529  0.006768  0.090818  0.646690\n",
       "332  0.293212  0.854205  0.637883  0.931690  0.389261\n",
       "333  0.429715  0.932833  0.582405  0.373915  0.443563\n",
       "\n",
       "[334 rows x 5 columns]"
      ]
     },
     "execution_count": 40,
     "metadata": {},
     "output_type": "execute_result"
    }
   ],
   "source": [
    "newdf"
   ]
  },
  {
   "cell_type": "code",
   "execution_count": 45,
   "metadata": {},
   "outputs": [
    {
     "data": {
      "text/plain": [
       "0    float64\n",
       "1    float64\n",
       "2    float64\n",
       "3    float64\n",
       "4    float64\n",
       "dtype: object"
      ]
     },
     "execution_count": 45,
     "metadata": {},
     "output_type": "execute_result"
    }
   ],
   "source": [
    "newdf2.dtypes"
   ]
  },
  {
   "cell_type": "markdown",
   "metadata": {},
   "source": [
    "### Printing the index of data frame"
   ]
  },
  {
   "cell_type": "code",
   "execution_count": 46,
   "metadata": {},
   "outputs": [
    {
     "data": {
      "text/plain": [
       "Index([  1,   2,   3,   4,   5,   6,   7,   8,   9,  10,\n",
       "       ...\n",
       "       325, 326, 327, 328, 329, 330, 331, 332, 333, 334],\n",
       "      dtype='int64', length=334)"
      ]
     },
     "execution_count": 46,
     "metadata": {},
     "output_type": "execute_result"
    }
   ],
   "source": [
    "newdf2.index"
   ]
  },
  {
   "cell_type": "code",
   "execution_count": 48,
   "metadata": {},
   "outputs": [
    {
     "data": {
      "text/plain": [
       "RangeIndex(start=0, stop=5, step=1)"
      ]
     },
     "execution_count": 48,
     "metadata": {},
     "output_type": "execute_result"
    }
   ],
   "source": [
    "newdf2.columns"
   ]
  },
  {
   "cell_type": "markdown",
   "metadata": {},
   "source": [
    "### To convert Pandas Series or Dataframe into numpy array"
   ]
  },
  {
   "cell_type": "code",
   "execution_count": null,
   "metadata": {},
   "outputs": [
    {
     "data": {
      "text/plain": [
       "array([[0.41998511, 0.0020783 , 0.52602313, 0.06729269, 0.28258669],\n",
       "       [0.30166117, 0.30276025, 0.72558648, 0.90292801, 0.29895175],\n",
       "       [0.33172626, 0.14099516, 0.14690671, 0.53031352, 0.10836383],\n",
       "       ...,\n",
       "       [0.70916124, 0.22390807, 0.96674311, 0.11631157, 0.26494966],\n",
       "       [0.24487334, 0.6873613 , 0.63246354, 0.01784406, 0.47514711],\n",
       "       [0.57051964, 0.94879992, 0.6045167 , 0.67072508, 0.0160327 ]])"
      ]
     },
     "execution_count": 54,
     "metadata": {},
     "output_type": "execute_result"
    }
   ],
   "source": [
    "newdf2.to_numpy()\n",
    "# This will convert the dataframe to a numpy array."
   ]
  },
  {
   "cell_type": "markdown",
   "metadata": {},
   "source": [
    "### To sort (in descending order)"
   ]
  },
  {
   "cell_type": "code",
   "execution_count": 55,
   "metadata": {},
   "outputs": [
    {
     "data": {
      "text/html": [
       "<div>\n",
       "<style scoped>\n",
       "    .dataframe tbody tr th:only-of-type {\n",
       "        vertical-align: middle;\n",
       "    }\n",
       "\n",
       "    .dataframe tbody tr th {\n",
       "        vertical-align: top;\n",
       "    }\n",
       "\n",
       "    .dataframe thead th {\n",
       "        text-align: right;\n",
       "    }\n",
       "</style>\n",
       "<table border=\"1\" class=\"dataframe\">\n",
       "  <thead>\n",
       "    <tr style=\"text-align: right;\">\n",
       "      <th></th>\n",
       "      <th>0</th>\n",
       "      <th>1</th>\n",
       "      <th>2</th>\n",
       "      <th>3</th>\n",
       "      <th>4</th>\n",
       "    </tr>\n",
       "  </thead>\n",
       "  <tbody>\n",
       "    <tr>\n",
       "      <th>334</th>\n",
       "      <td>0.570520</td>\n",
       "      <td>0.948800</td>\n",
       "      <td>0.604517</td>\n",
       "      <td>0.670725</td>\n",
       "      <td>0.016033</td>\n",
       "    </tr>\n",
       "    <tr>\n",
       "      <th>333</th>\n",
       "      <td>0.244873</td>\n",
       "      <td>0.687361</td>\n",
       "      <td>0.632464</td>\n",
       "      <td>0.017844</td>\n",
       "      <td>0.475147</td>\n",
       "    </tr>\n",
       "    <tr>\n",
       "      <th>332</th>\n",
       "      <td>0.709161</td>\n",
       "      <td>0.223908</td>\n",
       "      <td>0.966743</td>\n",
       "      <td>0.116312</td>\n",
       "      <td>0.264950</td>\n",
       "    </tr>\n",
       "    <tr>\n",
       "      <th>331</th>\n",
       "      <td>0.416678</td>\n",
       "      <td>0.608368</td>\n",
       "      <td>0.383899</td>\n",
       "      <td>0.656473</td>\n",
       "      <td>0.300871</td>\n",
       "    </tr>\n",
       "    <tr>\n",
       "      <th>330</th>\n",
       "      <td>0.758697</td>\n",
       "      <td>0.120615</td>\n",
       "      <td>0.406587</td>\n",
       "      <td>0.156062</td>\n",
       "      <td>0.310773</td>\n",
       "    </tr>\n",
       "    <tr>\n",
       "      <th>...</th>\n",
       "      <td>...</td>\n",
       "      <td>...</td>\n",
       "      <td>...</td>\n",
       "      <td>...</td>\n",
       "      <td>...</td>\n",
       "    </tr>\n",
       "    <tr>\n",
       "      <th>5</th>\n",
       "      <td>0.913611</td>\n",
       "      <td>0.682397</td>\n",
       "      <td>0.046800</td>\n",
       "      <td>0.966280</td>\n",
       "      <td>0.385617</td>\n",
       "    </tr>\n",
       "    <tr>\n",
       "      <th>4</th>\n",
       "      <td>0.457623</td>\n",
       "      <td>0.468116</td>\n",
       "      <td>0.134253</td>\n",
       "      <td>0.504068</td>\n",
       "      <td>0.341385</td>\n",
       "    </tr>\n",
       "    <tr>\n",
       "      <th>3</th>\n",
       "      <td>0.331726</td>\n",
       "      <td>0.140995</td>\n",
       "      <td>0.146907</td>\n",
       "      <td>0.530314</td>\n",
       "      <td>0.108364</td>\n",
       "    </tr>\n",
       "    <tr>\n",
       "      <th>2</th>\n",
       "      <td>0.301661</td>\n",
       "      <td>0.302760</td>\n",
       "      <td>0.725586</td>\n",
       "      <td>0.902928</td>\n",
       "      <td>0.298952</td>\n",
       "    </tr>\n",
       "    <tr>\n",
       "      <th>1</th>\n",
       "      <td>0.419985</td>\n",
       "      <td>0.002078</td>\n",
       "      <td>0.526023</td>\n",
       "      <td>0.067293</td>\n",
       "      <td>0.282587</td>\n",
       "    </tr>\n",
       "  </tbody>\n",
       "</table>\n",
       "<p>334 rows × 5 columns</p>\n",
       "</div>"
      ],
      "text/plain": [
       "            0         1         2         3         4\n",
       "334  0.570520  0.948800  0.604517  0.670725  0.016033\n",
       "333  0.244873  0.687361  0.632464  0.017844  0.475147\n",
       "332  0.709161  0.223908  0.966743  0.116312  0.264950\n",
       "331  0.416678  0.608368  0.383899  0.656473  0.300871\n",
       "330  0.758697  0.120615  0.406587  0.156062  0.310773\n",
       "..        ...       ...       ...       ...       ...\n",
       "5    0.913611  0.682397  0.046800  0.966280  0.385617\n",
       "4    0.457623  0.468116  0.134253  0.504068  0.341385\n",
       "3    0.331726  0.140995  0.146907  0.530314  0.108364\n",
       "2    0.301661  0.302760  0.725586  0.902928  0.298952\n",
       "1    0.419985  0.002078  0.526023  0.067293  0.282587\n",
       "\n",
       "[334 rows x 5 columns]"
      ]
     },
     "execution_count": 55,
     "metadata": {},
     "output_type": "execute_result"
    }
   ],
   "source": [
    "newdf2.sort_index(axis=0, ascending=False)\n",
    "# This will sort the dataframe in descending order."
   ]
  },
  {
   "cell_type": "code",
   "execution_count": null,
   "metadata": {},
   "outputs": [],
   "source": []
  }
 ],
 "metadata": {
  "kernelspec": {
   "display_name": "base",
   "language": "python",
   "name": "python3"
  },
  "language_info": {
   "codemirror_mode": {
    "name": "ipython",
    "version": 3
   },
   "file_extension": ".py",
   "mimetype": "text/x-python",
   "name": "python",
   "nbconvert_exporter": "python",
   "pygments_lexer": "ipython3",
   "version": "3.11.7"
  }
 },
 "nbformat": 4,
 "nbformat_minor": 2
}
